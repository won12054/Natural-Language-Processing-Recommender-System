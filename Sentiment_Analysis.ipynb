{
 "cells": [
  {
   "cell_type": "code",
   "execution_count": 81,
   "id": "daad918d",
   "metadata": {},
   "outputs": [],
   "source": [
    "import pandas as pd\n",
    "import re\n",
    "from sklearn.metrics import accuracy_score, f1_score"
   ]
  },
  {
   "cell_type": "code",
   "execution_count": 6,
   "id": "dbb5d0e2",
   "metadata": {},
   "outputs": [
    {
     "data": {
      "text/html": [
       "<div>\n",
       "<style scoped>\n",
       "    .dataframe tbody tr th:only-of-type {\n",
       "        vertical-align: middle;\n",
       "    }\n",
       "\n",
       "    .dataframe tbody tr th {\n",
       "        vertical-align: top;\n",
       "    }\n",
       "\n",
       "    .dataframe thead th {\n",
       "        text-align: right;\n",
       "    }\n",
       "</style>\n",
       "<table border=\"1\" class=\"dataframe\">\n",
       "  <thead>\n",
       "    <tr style=\"text-align: right;\">\n",
       "      <th></th>\n",
       "      <th>sentiment</th>\n",
       "      <th>text</th>\n",
       "      <th>user</th>\n",
       "    </tr>\n",
       "  </thead>\n",
       "  <tbody>\n",
       "    <tr>\n",
       "      <th>0</th>\n",
       "      <td>positive</td>\n",
       "      <td>RT @ashish_vaidya1: @Bhupendrapbjp sir, keshod...</td>\n",
       "      <td>ashish_vaidya1</td>\n",
       "    </tr>\n",
       "    <tr>\n",
       "      <th>1</th>\n",
       "      <td>neutral</td>\n",
       "      <td>RT @juank23_7: @Minsa_Peru #DatosAbiertos 🇵🇪 \\...</td>\n",
       "      <td>viralvideovlogs</td>\n",
       "    </tr>\n",
       "    <tr>\n",
       "      <th>2</th>\n",
       "      <td>neutral</td>\n",
       "      <td>RT @juank23_7: @Minsa_Peru #DatosAbiertos 🇵🇪 \\...</td>\n",
       "      <td>Theexpansefan1</td>\n",
       "    </tr>\n",
       "    <tr>\n",
       "      <th>3</th>\n",
       "      <td>neutral</td>\n",
       "      <td>RT @RealOzSAGE: Backed by Science: Here’s How ...</td>\n",
       "      <td>sterzie</td>\n",
       "    </tr>\n",
       "    <tr>\n",
       "      <th>4</th>\n",
       "      <td>neutral</td>\n",
       "      <td>RT @WHO: The Technical Advisory Group on SARS-...</td>\n",
       "      <td>Gabriel82137261</td>\n",
       "    </tr>\n",
       "  </tbody>\n",
       "</table>\n",
       "</div>"
      ],
      "text/plain": [
       "  sentiment                                               text  \\\n",
       "0  positive  RT @ashish_vaidya1: @Bhupendrapbjp sir, keshod...   \n",
       "1   neutral  RT @juank23_7: @Minsa_Peru #DatosAbiertos 🇵🇪 \\...   \n",
       "2   neutral  RT @juank23_7: @Minsa_Peru #DatosAbiertos 🇵🇪 \\...   \n",
       "3   neutral  RT @RealOzSAGE: Backed by Science: Here’s How ...   \n",
       "4   neutral  RT @WHO: The Technical Advisory Group on SARS-...   \n",
       "\n",
       "              user  \n",
       "0   ashish_vaidya1  \n",
       "1  viralvideovlogs  \n",
       "2   Theexpansefan1  \n",
       "3          sterzie  \n",
       "4  Gabriel82137261  "
      ]
     },
     "execution_count": 6,
     "metadata": {},
     "output_type": "execute_result"
    }
   ],
   "source": [
    "'''\n",
    "a. Load the data into a dataframe. \n",
    "    Name it \"jungyu_df\", and examine the data. \n",
    "    You will notice that the file has a header and four tweets with their sentiments.\n",
    "'''\n",
    "\n",
    "filepath = 'C:/Users/Public/6th/NLP and Recommender Systems/Assignment1/COVID19_data.csv'\n",
    "\n",
    "jungyu_df = pd.read_csv(filepath)\n",
    "jungyu_df.head()"
   ]
  },
  {
   "cell_type": "code",
   "execution_count": 7,
   "id": "03153f0d",
   "metadata": {},
   "outputs": [],
   "source": [
    "'''\n",
    "b. Drop the user column.\n",
    "'''\n",
    "jungyu_df = jungyu_df.drop(columns=['user'])"
   ]
  },
  {
   "cell_type": "code",
   "execution_count": 12,
   "id": "a4773b43",
   "metadata": {},
   "outputs": [],
   "source": [
    "'''\n",
    "c. Use regular expressions or python string methods to get rid of the additional data at the begging and end of each tweet.\n",
    "'''\n",
    "def clean_tweet(text):\n",
    "    # Remove \"RT @username: \" at the beginning\n",
    "    text = re.sub(r'^RT @\\w+: ', '', text)\n",
    "    # Remove all other @username mentions\n",
    "    text = re.sub(r'@\\w+', '', text)\n",
    "    # Remove trailing ellipsis\n",
    "    text = re.sub(r'…$', '', text)\n",
    "    # Remove any characters that are not letters, numbers, or spaces (including standalone numbers)\n",
    "    text = re.sub(r'[^\\w\\s]', '', text)\n",
    "    # Remove standalone numbers\n",
    "    text = re.sub(r'\\b\\d+\\b', '', text)\n",
    "    # Replace multiple spaces with a single space\n",
    "    text = re.sub(r'\\s+', ' ', text)\n",
    "    \n",
    "    # Remove any leading or trailing whitespace\n",
    "    return text.strip()\n",
    "\n",
    "jungyu_df['text'] = jungyu_df['text'].apply(clean_tweet)"
   ]
  },
  {
   "cell_type": "code",
   "execution_count": 13,
   "id": "60c83268",
   "metadata": {},
   "outputs": [
    {
     "data": {
      "text/html": [
       "<div>\n",
       "<style scoped>\n",
       "    .dataframe tbody tr th:only-of-type {\n",
       "        vertical-align: middle;\n",
       "    }\n",
       "\n",
       "    .dataframe tbody tr th {\n",
       "        vertical-align: top;\n",
       "    }\n",
       "\n",
       "    .dataframe thead th {\n",
       "        text-align: right;\n",
       "    }\n",
       "</style>\n",
       "<table border=\"1\" class=\"dataframe\">\n",
       "  <thead>\n",
       "    <tr style=\"text-align: right;\">\n",
       "      <th></th>\n",
       "      <th>sentiment</th>\n",
       "      <th>text</th>\n",
       "    </tr>\n",
       "  </thead>\n",
       "  <tbody>\n",
       "    <tr>\n",
       "      <th>0</th>\n",
       "      <td>positive</td>\n",
       "      <td>sir keshod mamlatdar office says they didnt re...</td>\n",
       "    </tr>\n",
       "    <tr>\n",
       "      <th>1</th>\n",
       "      <td>neutral</td>\n",
       "      <td>DatosAbiertos nAl por fecha de defunciónnnEl p...</td>\n",
       "    </tr>\n",
       "    <tr>\n",
       "      <th>2</th>\n",
       "      <td>neutral</td>\n",
       "      <td>DatosAbiertos nAl por fecha de defunciónnnEl p...</td>\n",
       "    </tr>\n",
       "    <tr>\n",
       "      <th>3</th>\n",
       "      <td>neutral</td>\n",
       "      <td>Backed by Science Heres How We Can Eliminate C...</td>\n",
       "    </tr>\n",
       "    <tr>\n",
       "      <th>4</th>\n",
       "      <td>neutral</td>\n",
       "      <td>The Technical Advisory Group on SARSCoV2 Virus...</td>\n",
       "    </tr>\n",
       "  </tbody>\n",
       "</table>\n",
       "</div>"
      ],
      "text/plain": [
       "  sentiment                                               text\n",
       "0  positive  sir keshod mamlatdar office says they didnt re...\n",
       "1   neutral  DatosAbiertos nAl por fecha de defunciónnnEl p...\n",
       "2   neutral  DatosAbiertos nAl por fecha de defunciónnnEl p...\n",
       "3   neutral  Backed by Science Heres How We Can Eliminate C...\n",
       "4   neutral  The Technical Advisory Group on SARSCoV2 Virus..."
      ]
     },
     "execution_count": 13,
     "metadata": {},
     "output_type": "execute_result"
    }
   ],
   "source": [
    "jungyu_df.head()"
   ]
  },
  {
   "cell_type": "code",
   "execution_count": 33,
   "id": "e2bb38d4",
   "metadata": {},
   "outputs": [
    {
     "name": "stdout",
     "output_type": "stream",
     "text": [
      "Shape of the DataFrame:\n",
      "\n",
      "(100, 2)\n",
      "\n",
      "Data Types:\n",
      "\n",
      "sentiment    object\n",
      "text         object\n",
      "dtype: object\n",
      "\n",
      "Missing Values:\n",
      "\n",
      "sentiment    0\n",
      "text         0\n",
      "dtype: int64\n",
      "\n",
      "Tweet Text Describe:\n",
      "\n",
      "count                                                   100\n",
      "unique                                                   87\n",
      "top       ACTUALIZACIÓN Esta es la situación de la COVID...\n",
      "freq                                                      7\n",
      "Name: text, dtype: object\n",
      "\n",
      "Sentiment Distribution:\n",
      "\n",
      "neutral     65\n",
      "positive    21\n",
      "negative    14\n",
      "Name: sentiment, dtype: int64\n",
      "\n",
      "Number of Duplicate Rows:\n",
      "13\n",
      "\n",
      "Tweet Length Statistics:\n",
      "count    100.000000\n",
      "mean     104.110000\n",
      "std       22.614421\n",
      "min       18.000000\n",
      "25%      100.750000\n",
      "50%      109.500000\n",
      "75%      117.000000\n",
      "max      136.000000\n",
      "Name: text, dtype: float64\n"
     ]
    }
   ],
   "source": [
    "'''\n",
    "d. Carry out some basic data exploration and note all the results in your analysis report.\n",
    "'''\n",
    "print('Shape of the DataFrame:\\n')\n",
    "print(jungyu_df.shape)\n",
    "\n",
    "print('\\nData Types:\\n')\n",
    "print(jungyu_df.dtypes)\n",
    "\n",
    "print('\\nMissing Values:\\n')\n",
    "print(jungyu_df.isnull().sum())\n",
    "\n",
    "print('\\nTweet Text Describe:\\n')\n",
    "print(jungyu_df['text'].describe())\n",
    "\n",
    "print('\\nSentiment Distribution:\\n')\n",
    "print(jungyu_df['sentiment'].value_counts())\n",
    "\n",
    "print('\\nNumber of Duplicate Rows:')\n",
    "print(jungyu_df.duplicated().sum())\n",
    "\n",
    "print('\\nTweet Length Statistics:')\n",
    "print(jungyu_df['text'].apply(len).describe())"
   ]
  },
  {
   "cell_type": "code",
   "execution_count": 34,
   "id": "ac17be57",
   "metadata": {},
   "outputs": [
    {
     "data": {
      "text/html": [
       "<div>\n",
       "<style scoped>\n",
       "    .dataframe tbody tr th:only-of-type {\n",
       "        vertical-align: middle;\n",
       "    }\n",
       "\n",
       "    .dataframe tbody tr th {\n",
       "        vertical-align: top;\n",
       "    }\n",
       "\n",
       "    .dataframe thead th {\n",
       "        text-align: right;\n",
       "    }\n",
       "</style>\n",
       "<table border=\"1\" class=\"dataframe\">\n",
       "  <thead>\n",
       "    <tr style=\"text-align: right;\">\n",
       "      <th></th>\n",
       "      <th>sentiment</th>\n",
       "      <th>text</th>\n",
       "      <th>tween_len</th>\n",
       "    </tr>\n",
       "  </thead>\n",
       "  <tbody>\n",
       "    <tr>\n",
       "      <th>0</th>\n",
       "      <td>positive</td>\n",
       "      <td>sir keshod mamlatdar office says they didnt re...</td>\n",
       "      <td>101</td>\n",
       "    </tr>\n",
       "    <tr>\n",
       "      <th>1</th>\n",
       "      <td>neutral</td>\n",
       "      <td>DatosAbiertos nAl por fecha de defunciónnnEl p...</td>\n",
       "      <td>95</td>\n",
       "    </tr>\n",
       "    <tr>\n",
       "      <th>2</th>\n",
       "      <td>neutral</td>\n",
       "      <td>DatosAbiertos nAl por fecha de defunciónnnEl p...</td>\n",
       "      <td>95</td>\n",
       "    </tr>\n",
       "    <tr>\n",
       "      <th>3</th>\n",
       "      <td>neutral</td>\n",
       "      <td>Backed by Science Heres How We Can Eliminate C...</td>\n",
       "      <td>88</td>\n",
       "    </tr>\n",
       "    <tr>\n",
       "      <th>4</th>\n",
       "      <td>neutral</td>\n",
       "      <td>The Technical Advisory Group on SARSCoV2 Virus...</td>\n",
       "      <td>123</td>\n",
       "    </tr>\n",
       "  </tbody>\n",
       "</table>\n",
       "</div>"
      ],
      "text/plain": [
       "  sentiment                                               text  tween_len\n",
       "0  positive  sir keshod mamlatdar office says they didnt re...        101\n",
       "1   neutral  DatosAbiertos nAl por fecha de defunciónnnEl p...         95\n",
       "2   neutral  DatosAbiertos nAl por fecha de defunciónnnEl p...         95\n",
       "3   neutral  Backed by Science Heres How We Can Eliminate C...         88\n",
       "4   neutral  The Technical Advisory Group on SARSCoV2 Virus...        123"
      ]
     },
     "execution_count": 34,
     "metadata": {},
     "output_type": "execute_result"
    }
   ],
   "source": [
    "'''\n",
    "e. Add a column to your dataframe to reflect the length of each tweet, name it “tweet_len”.\n",
    "'''\n",
    "jungyu_df['tween_len'] = jungyu_df['text'].apply(len)\n",
    "jungyu_df.head()"
   ]
  },
  {
   "cell_type": "code",
   "execution_count": 72,
   "id": "31e0cea5",
   "metadata": {},
   "outputs": [
    {
     "name": "stdout",
     "output_type": "stream",
     "text": [
      "        word\n",
      "0         a+\n",
      "1     abound\n",
      "2    abounds\n",
      "3  abundance\n",
      "4   abundant\n",
      "         word\n",
      "0     2-faced\n",
      "1     2-faces\n",
      "2    abnormal\n",
      "3     abolish\n",
      "4  abominable\n"
     ]
    }
   ],
   "source": [
    "'''\n",
    "f. Load the positive and negative words lexicons into two dataframe\n",
    "'''\n",
    "positive_words_path = 'C:/Users/Public/6th/NLP and Recommender Systems/Assignment1/positive-words.txt'\n",
    "negative_words_path = 'C:/Users/Public/6th/NLP and Recommender Systems/Assignment1/negative-words.txt'\n",
    "\n",
    "positive_df = pd.read_csv(positive_words_path, header=None, names=['word'], encoding='latin1')\n",
    "negative_df = pd.read_csv(negative_words_path, header=None, names=['word'], encoding='latin1')\n",
    "\n",
    "print(positive_df.head())\n",
    "print(negative_df.head())"
   ]
  },
  {
   "cell_type": "code",
   "execution_count": 74,
   "id": "87b92946",
   "metadata": {},
   "outputs": [],
   "source": [
    "'''\n",
    "g. Iterate through all of the words in each tweet and hit against the list of lexicons in the positive and negative word datframes. \n",
    "    Since there are longer tweets, you need to normalize the number of positive and negative hits by the number of words in each tweet.\n",
    "'''\n",
    "\n",
    "positive_scores = []\n",
    "negative_scores = []\n",
    "\n",
    "positive_words = set(positive_df['word'])\n",
    "negative_words = set(negative_df['word'])\n",
    "\n",
    "for tweet in jungyu_df['text']:\n",
    "    words = tweet.split()\n",
    "    \n",
    "    positive_hits = sum(1 for word in words if word in positive_words)\n",
    "    negative_hits = sum(1 for word in words if word in negative_words)\n",
    "    \n",
    "    tweet_len = len(words)\n",
    "    positive_score = positive_hits / tweet_len if tweet_len > 0 else 0\n",
    "    negative_score = negative_hits / tweet_len if tweet_len > 0 else 0\n",
    "    \n",
    "    positive_scores.append(positive_score)\n",
    "    negative_scores.append(negative_score)"
   ]
  },
  {
   "cell_type": "code",
   "execution_count": 75,
   "id": "01244149",
   "metadata": {},
   "outputs": [],
   "source": [
    "'''\n",
    "h. Add two columns to your datafrme one to reflect the percentage of positiveness \n",
    "    and the second to reflect the percentage of negativeness.\n",
    "'''\n",
    "jungyu_df['positive_score'] = positive_scores\n",
    "jungyu_df['negative_score'] = negative_scores"
   ]
  },
  {
   "cell_type": "code",
   "execution_count": 76,
   "id": "d7224202",
   "metadata": {},
   "outputs": [],
   "source": [
    "'''\n",
    "i. Add a column to your data frame name it \"predicted_sentiment_score\".\n",
    "  i. If both positive and negative percentages are equal to zero, or if both percentages are equal (have the same percentage) tag the tweet as neutral\n",
    "  ii. If the positive percentage is greater than the negative percentage then tag the tweet as positive.\n",
    "  iii. If the negative percentage is greater than the positive percentage then tag the tweet as negative.\n",
    "'''\n",
    "def tag_sentiment(positive_score, negative_score):\n",
    "    if positive_score == 0 and negative_score == 0:\n",
    "        return 'neutral'\n",
    "    elif positive_score == negative_score:\n",
    "        return 'neutral'\n",
    "    elif positive_score > negative_score:\n",
    "        return 'positive'\n",
    "    else:\n",
    "        return 'negative'\n",
    "\n",
    "jungyu_df['predicted_sentiment_score'] = jungyu_df.apply(lambda row: tag_sentiment(row['positive_score'], row['negative_score']), axis = 1)"
   ]
  },
  {
   "cell_type": "code",
   "execution_count": 80,
   "id": "83346845",
   "metadata": {},
   "outputs": [],
   "source": [
    "# pd.set_option('display.max_rows', None)\n",
    "# print(jungyu_df)"
   ]
  },
  {
   "cell_type": "code",
   "execution_count": 82,
   "id": "48eb229a",
   "metadata": {},
   "outputs": [
    {
     "name": "stdout",
     "output_type": "stream",
     "text": [
      "0.72\n"
     ]
    }
   ],
   "source": [
    "'''\n",
    "j. Compare the original sentiments.  \n",
    "'''\n",
    "\n",
    "accuracy = accuracy_score(jungyu_df['sentiment'], jungyu_df['predicted_sentiment_score'])\n",
    "print(accuracy)"
   ]
  },
  {
   "cell_type": "code",
   "execution_count": 84,
   "id": "475fdc1e",
   "metadata": {},
   "outputs": [
    {
     "name": "stdout",
     "output_type": "stream",
     "text": [
      "0.6984414017173358\n"
     ]
    }
   ],
   "source": [
    "f1 = f1_score(jungyu_df['sentiment'], jungyu_df['predicted_sentiment_score'], average='weighted')\n",
    "print(f1)"
   ]
  },
  {
   "cell_type": "code",
   "execution_count": null,
   "id": "ed11d263",
   "metadata": {},
   "outputs": [],
   "source": []
  }
 ],
 "metadata": {
  "kernelspec": {
   "display_name": "Python 3 (ipykernel)",
   "language": "python",
   "name": "python3"
  },
  "language_info": {
   "codemirror_mode": {
    "name": "ipython",
    "version": 3
   },
   "file_extension": ".py",
   "mimetype": "text/x-python",
   "name": "python",
   "nbconvert_exporter": "python",
   "pygments_lexer": "ipython3",
   "version": "3.9.7"
  }
 },
 "nbformat": 4,
 "nbformat_minor": 5
}
