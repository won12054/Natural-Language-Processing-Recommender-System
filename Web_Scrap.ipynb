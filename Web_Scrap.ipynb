{
 "cells": [
  {
   "cell_type": "code",
   "execution_count": 104,
   "id": "3a263e51",
   "metadata": {},
   "outputs": [],
   "source": [
    "import requests\n",
    "from bs4 import BeautifulSoup\n",
    "import json"
   ]
  },
  {
   "cell_type": "code",
   "execution_count": 105,
   "id": "e0ef9c85",
   "metadata": {},
   "outputs": [],
   "source": [
    "url = \"https://www.centennialcollege.ca/programs-courses/full-time/artificial-intelligence/\""
   ]
  },
  {
   "cell_type": "code",
   "execution_count": 106,
   "id": "bb8a70a5",
   "metadata": {},
   "outputs": [],
   "source": [
    "response = requests.get(url)"
   ]
  },
  {
   "cell_type": "code",
   "execution_count": 107,
   "id": "298729cd",
   "metadata": {},
   "outputs": [
    {
     "data": {
      "text/plain": [
       "<Response [200]>"
      ]
     },
     "execution_count": 107,
     "metadata": {},
     "output_type": "execute_result"
    }
   ],
   "source": [
    "response"
   ]
  },
  {
   "cell_type": "code",
   "execution_count": 108,
   "id": "0da8fab9",
   "metadata": {},
   "outputs": [],
   "source": [
    "soup = BeautifulSoup(response.text, 'html.parser')"
   ]
  },
  {
   "cell_type": "code",
   "execution_count": 109,
   "id": "cfc66ed5",
   "metadata": {},
   "outputs": [],
   "source": [
    "'''\n",
    "a. The title of the website\n",
    "'''\n",
    "title = soup.title.string"
   ]
  },
  {
   "cell_type": "code",
   "execution_count": 110,
   "id": "29a8affa",
   "metadata": {},
   "outputs": [
    {
     "name": "stdout",
     "output_type": "stream",
     "text": [
      "Centennial College - Artificial Intelligence - Software Engineering Technology (Optional Co-op)\n"
     ]
    }
   ],
   "source": [
    "print(title)"
   ]
  },
  {
   "cell_type": "code",
   "execution_count": 111,
   "id": "f2b2e930",
   "metadata": {},
   "outputs": [],
   "source": [
    "''' \n",
    "b.\tThe program highlights.\n",
    "'''\n",
    "program_details_div = soup.find('div', {'data-component': 'programDetailsPdfButton'})\n",
    "data_json = program_details_div['data-json']\n",
    "program_details_div_parsed = json.loads(data_json)\n",
    "\n",
    "# print(program_details_div_parsed)"
   ]
  },
  {
   "cell_type": "code",
   "execution_count": 112,
   "id": "593727b9",
   "metadata": {},
   "outputs": [],
   "source": [
    "highlights_tab_content = BeautifulSoup(program_details_div_parsed['PdbTabContent'][2]['content'], 'html.parser')\n",
    "list_items = highlights_tab_content.find_all('li')\n",
    "\n",
    "# print(list_items)"
   ]
  },
  {
   "cell_type": "code",
   "execution_count": 113,
   "id": "41056924",
   "metadata": {},
   "outputs": [
    {
     "name": "stdout",
     "output_type": "stream",
     "text": [
      "Software Engineering Technology – Artificial Intelligence courses incorporate the use of leading technology geared to industry standards.\n",
      "Project-based learning is a key component of the offering.\n",
      "Knowledgeable and approachable faculty members have diverse industry experience and academic credentials.\n",
      "This program is also delivered in a version that includes a co-op option. Students who choose this version (program #3412) are introduced to some of the biggest names in the industry with whom they are able to network in addition to gaining experience that puts them ahead of the competition — before they even graduate.\n",
      "Graduates from the program may apply for certified membership to their provincial engineering technology association.\n"
     ]
    }
   ],
   "source": [
    "highlights_list_items = []\n",
    "\n",
    "for item in list_items:\n",
    "    text = item.get_text()\n",
    "    if \"AI Developer\" in text:\n",
    "        break\n",
    "    highlights_list_items.append(text)\n",
    "\n",
    "highlights = \"\\n\".join(highlights_list_items)\n",
    "\n",
    "print(highlights)"
   ]
  },
  {
   "cell_type": "code",
   "execution_count": 114,
   "id": "03e1a6dc",
   "metadata": {},
   "outputs": [],
   "source": [
    "overview_tab_content = BeautifulSoup(program_details_div_parsed['PdbTabContent'][0]['content'], 'html.parser')"
   ]
  },
  {
   "cell_type": "code",
   "execution_count": 115,
   "id": "2ca674d5",
   "metadata": {
    "scrolled": true
   },
   "outputs": [
    {
     "name": "stdout",
     "output_type": "stream",
     "text": [
      "Through collaboration with industry, the Software Engineering Technology – Artificial Intelligence (AI) program will provide our students with skills in state-of-art design and AI application development technologies. Software is taking the planet by storm and AI-driven technologies are at the center of it. AI’s global economic impact is expected to reach trillions by 2025. AI is set to become the new database for next-generation applications.\n",
      "\n",
      "Our Software Engineering Technology – Artificial Intelligence program aligns well with the newest technology trends in the software industry, namely Augmented Analytics, AI-Driven Development, and Autonomous Things.The coursework emphasizes modern software design and AI frameworks, machine learning, data visualization, big data fundamentals, natural language processing, image recognition, recommender systems, software bots, digital ethics and privacy guidelines within AI solutions.\n"
     ]
    }
   ],
   "source": [
    "paragraphs = overview_tab_content.find_all('p')\n",
    "first_two_overview = \"\\n\\n\".join([p.get_text() for p in paragraphs[:2]])\n",
    "\n",
    "print(first_two_overview)"
   ]
  },
  {
   "cell_type": "code",
   "execution_count": 116,
   "id": "0f800e13",
   "metadata": {},
   "outputs": [],
   "source": [
    "filename = \"C:/Users/Public/6th/NLP and Recommender Systems/Assignment1/jungyu_my_future.txt\""
   ]
  },
  {
   "cell_type": "code",
   "execution_count": 117,
   "id": "675f070d",
   "metadata": {},
   "outputs": [],
   "source": [
    "with open(filename, 'w', encoding='utf-8') as file:\n",
    "    file.write(f'Title: {title}\\n\\n')\n",
    "    file.write(f'Program Highlights:\\n{highlights}\\n\\n')\n",
    "    file.write(f'Program Overview:\\n{first_two_overview}')"
   ]
  }
 ],
 "metadata": {
  "kernelspec": {
   "display_name": "Python 3 (ipykernel)",
   "language": "python",
   "name": "python3"
  },
  "language_info": {
   "codemirror_mode": {
    "name": "ipython",
    "version": 3
   },
   "file_extension": ".py",
   "mimetype": "text/x-python",
   "name": "python",
   "nbconvert_exporter": "python",
   "pygments_lexer": "ipython3",
   "version": "3.9.7"
  }
 },
 "nbformat": 4,
 "nbformat_minor": 5
}
